{
 "cells": [
  {
   "metadata": {
    "ExecuteTime": {
     "end_time": "2024-08-08T09:46:45.644439Z",
     "start_time": "2024-08-08T09:46:45.608983Z"
    }
   },
   "cell_type": "code",
   "source": [
    "import os\n",
    "\n",
    "def rename_files_in_folder(source_folder, destination_folder, suffix):\n",
    "    # 遍历文件夹中的所有文件\n",
    "    for filename in os.listdir(source_folder):\n",
    "        # 获取文件的完整路径\n",
    "        full_path = os.path.join(source_folder, filename)\n",
    "        \n",
    "        # 确保处理的对象是文件\n",
    "        if os.path.isfile(full_path):\n",
    "            # 分离文件名和扩展名\n",
    "            name, ext = os.path.splitext(filename)\n",
    "            \n",
    "            # 创建新的文件名\n",
    "            new_filename = name + suffix + ext\n",
    "            \n",
    "            # 获取新的文件完整路径\n",
    "            new_full_path = os.path.join(destination_folder, new_filename)\n",
    "            \n",
    "            # 重命名文件\n",
    "            os.rename(full_path, new_full_path)\n",
    "\n",
    "    print(f\"文件夹 {source_folder} 中的所有文件重命名完毕。\")\n",
    "\n",
    "# 定义文件夹路径和后缀\n",
    "folder2 = 'data\\\\3调api跑出的数据\\\\调api跑出的数据_first'\n",
    "folder3 = 'data\\\\3调api跑出的数据\\\\调api跑出的数据_second'\n",
    "folder4 = 'data\\\\3调api跑出的数据\\\\调api跑出的数据_old'\n",
    "\n",
    "# 调用函数重命名文件\n",
    "rename_files_in_folder(folder2, folder4, '_first')\n",
    "rename_files_in_folder(folder3, folder4, '_second')\n"
   ],
   "id": "987bd37f87f7b346",
   "outputs": [
    {
     "name": "stdout",
     "output_type": "stream",
     "text": [
      "文件夹 data\\3调api跑出的数据\\调api跑出的数据_first 中的所有文件重命名完毕。\n",
      "文件夹 data\\3调api跑出的数据\\调api跑出的数据_second 中的所有文件重命名完毕。\n"
     ]
    }
   ],
   "execution_count": 7
  },
  {
   "metadata": {
    "ExecuteTime": {
     "end_time": "2024-08-08T06:00:27.269148Z",
     "start_time": "2024-08-08T06:00:27.264635Z"
    }
   },
   "cell_type": "code",
   "source": "",
   "id": "9cdb668b2733f770",
   "outputs": [],
   "execution_count": 3
  },
  {
   "metadata": {},
   "cell_type": "code",
   "outputs": [],
   "execution_count": null,
   "source": "",
   "id": "e88ff088fc5bf01e"
  }
 ],
 "metadata": {
  "kernelspec": {
   "display_name": "Python 3",
   "language": "python",
   "name": "python3"
  },
  "language_info": {
   "codemirror_mode": {
    "name": "ipython",
    "version": 2
   },
   "file_extension": ".py",
   "mimetype": "text/x-python",
   "name": "python",
   "nbconvert_exporter": "python",
   "pygments_lexer": "ipython2",
   "version": "2.7.6"
  }
 },
 "nbformat": 4,
 "nbformat_minor": 5
}
