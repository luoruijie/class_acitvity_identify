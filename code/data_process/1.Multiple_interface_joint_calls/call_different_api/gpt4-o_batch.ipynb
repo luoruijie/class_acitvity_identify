{
 "cells": [
  {
   "cell_type": "code",
   "id": "initial_id",
   "metadata": {
    "collapsed": true,
    "ExecuteTime": {
     "end_time": "2024-08-26T09:58:46.458594Z",
     "start_time": "2024-08-26T09:58:44.135419Z"
    }
   },
   "source": [
    "import os\n",
    "from openai import AzureOpenAI\n",
    "\n",
    "client = AzureOpenAI(\n",
    "    api_key='0b63f17479414114b7006e9d1ed56f87',\n",
    "    api_version=\"2024-07-01-preview\",\n",
    "    azure_endpoint='https://soikit-gpt4-mini.openai.azure.com/'\n",
    ")\n",
    "\n",
    "# Upload a file with a purpose of \"batch\"\n",
    "file = client.files.create(\n",
    "    file=open(\"../test.jsonl\", \"rb\"),\n",
    "    purpose=\"batch\"\n",
    ")\n",
    "\n",
    "print(file.model_dump_json(indent=2))\n",
    "file_id = file.id\n"
   ],
   "outputs": [
    {
     "name": "stdout",
     "output_type": "stream",
     "text": [
      "{\n",
      "  \"id\": \"file-7b235269712c45ff9543e999920e46d0\",\n",
      "  \"bytes\": 886,\n",
      "  \"created_at\": 1724666325,\n",
      "  \"filename\": \"test.jsonl\",\n",
      "  \"object\": \"file\",\n",
      "  \"purpose\": \"batch\",\n",
      "  \"status\": \"pending\",\n",
      "  \"status_details\": null\n",
      "}\n"
     ]
    }
   ],
   "execution_count": 17
  },
  {
   "metadata": {
    "ExecuteTime": {
     "end_time": "2024-08-26T09:51:37.608962Z",
     "start_time": "2024-08-26T09:51:34.155699Z"
    }
   },
   "cell_type": "code",
   "source": [
    "# Wait until the uploaded file is in processed state\n",
    "import time\n",
    "import datetime \n",
    "\n",
    "status = \"pending\"\n",
    "while status != \"processed\":\n",
    "    time.sleep(2)\n",
    "    file_response = client.files.retrieve(file_id)\n",
    "    status = file_response.status\n",
    "    print(f\"{datetime.datetime.now()} File Id: {file_id}, Status: {status}\")"
   ],
   "id": "fdc48895df1cee81",
   "outputs": [
    {
     "name": "stdout",
     "output_type": "stream",
     "text": [
      "2024-08-26 17:51:37.601734 File Id: file-479b38f603464bc092e7410ca516c2c0, Status: processed\n"
     ]
    }
   ],
   "execution_count": 12
  },
  {
   "metadata": {
    "ExecuteTime": {
     "end_time": "2024-08-26T09:51:59.141544Z",
     "start_time": "2024-08-26T09:51:53.694546Z"
    }
   },
   "cell_type": "code",
   "source": [
    "# Submit a batch job with the file\n",
    "batch_response = client.batches.create(\n",
    "    input_file_id=file_id,\n",
    "    endpoint=\"/chat/completions\",\n",
    "    completion_window=\"24h\",\n",
    ")\n",
    "\n",
    "# Save batch ID for later use\n",
    "batch_id = batch_response.id\n",
    "\n",
    "print(batch_response.model_dump_json(indent=2))"
   ],
   "id": "6e68325eff186072",
   "outputs": [
    {
     "name": "stdout",
     "output_type": "stream",
     "text": [
      "{\n",
      "  \"id\": \"batch_db97b881-4c8e-4314-b726-de990241b3d0\",\n",
      "  \"completion_window\": \"24h\",\n",
      "  \"created_at\": 1724665918,\n",
      "  \"endpoint\": \"/chat/completions\",\n",
      "  \"input_file_id\": \"file-479b38f603464bc092e7410ca516c2c0\",\n",
      "  \"object\": \"batch\",\n",
      "  \"status\": \"validating\",\n",
      "  \"cancelled_at\": null,\n",
      "  \"cancelling_at\": null,\n",
      "  \"completed_at\": null,\n",
      "  \"error_file_id\": null,\n",
      "  \"errors\": null,\n",
      "  \"expired_at\": null,\n",
      "  \"expires_at\": 1724752318,\n",
      "  \"failed_at\": null,\n",
      "  \"finalizing_at\": null,\n",
      "  \"in_progress_at\": null,\n",
      "  \"metadata\": null,\n",
      "  \"output_file_id\": null,\n",
      "  \"request_counts\": {\n",
      "    \"completed\": 0,\n",
      "    \"failed\": 0,\n",
      "    \"total\": 0\n",
      "  }\n",
      "}\n"
     ]
    }
   ],
   "execution_count": 13
  },
  {
   "metadata": {
    "ExecuteTime": {
     "end_time": "2024-08-26T09:54:45.832271Z",
     "start_time": "2024-08-26T09:52:41.939596Z"
    }
   },
   "cell_type": "code",
   "source": [
    "import time\n",
    "import datetime \n",
    "\n",
    "status = \"validating\"\n",
    "while status not in (\"completed\", \"failed\", \"canceled\"):\n",
    "    time.sleep(60)\n",
    "    batch_response = client.batches.retrieve(batch_id)\n",
    "    print(batch_response)\n",
    "    status = batch_response.status\n",
    "    print(f\"{datetime.datetime.now()} Batch Id: {batch_id},  Status: {status}\")"
   ],
   "id": "c5601e108b65dbe3",
   "outputs": [
    {
     "name": "stdout",
     "output_type": "stream",
     "text": [
      "Batch(id='batch_db97b881-4c8e-4314-b726-de990241b3d0', completion_window='24h', created_at=1724665918, endpoint='/chat/completions', input_file_id='file-479b38f603464bc092e7410ca516c2c0', object='batch', status='validating', cancelled_at=None, cancelling_at=None, completed_at=None, error_file_id=None, errors=None, expired_at=None, expires_at=1724752318, failed_at=None, finalizing_at=None, in_progress_at=None, metadata=None, output_file_id=None, request_counts=BatchRequestCounts(completed=0, failed=0, total=0))\n",
      "2024-08-26 17:53:44.205195 Batch Id: batch_db97b881-4c8e-4314-b726-de990241b3d0,  Status: validating\n",
      "Batch(id='batch_db97b881-4c8e-4314-b726-de990241b3d0', completion_window='24h', created_at=1724665918, endpoint='/chat/completions', input_file_id='file-479b38f603464bc092e7410ca516c2c0', object='batch', status='failed', cancelled_at=None, cancelling_at=None, completed_at=None, error_file_id=None, errors=Errors(data=[BatchError(code='model_mismatch', line=None, message=\"The provided model deployment 'REPLACE-WITH-MODEL-DEPLOYMENT-NAME' does not exist in the AOAI resource.\", param=None), BatchError(code='invalid_request', line=None, message='The request is invalid.', param=None)], object='list'), expired_at=None, expires_at=1724752318, failed_at=1724666077, finalizing_at=None, in_progress_at=None, metadata=None, output_file_id=None, request_counts=BatchRequestCounts(completed=0, failed=0, total=0))\n",
      "2024-08-26 17:54:45.821011 Batch Id: batch_db97b881-4c8e-4314-b726-de990241b3d0,  Status: failed\n"
     ]
    }
   ],
   "execution_count": 14
  },
  {
   "metadata": {
    "ExecuteTime": {
     "end_time": "2024-08-26T09:55:40.605535Z",
     "start_time": "2024-08-26T09:55:40.591533Z"
    }
   },
   "cell_type": "code",
   "source": "print(batch_response.model_dump_json(indent=2))\n",
   "id": "72d0649590fe2db2",
   "outputs": [
    {
     "name": "stdout",
     "output_type": "stream",
     "text": [
      "{\n",
      "  \"id\": \"batch_db97b881-4c8e-4314-b726-de990241b3d0\",\n",
      "  \"completion_window\": \"24h\",\n",
      "  \"created_at\": 1724665918,\n",
      "  \"endpoint\": \"/chat/completions\",\n",
      "  \"input_file_id\": \"file-479b38f603464bc092e7410ca516c2c0\",\n",
      "  \"object\": \"batch\",\n",
      "  \"status\": \"failed\",\n",
      "  \"cancelled_at\": null,\n",
      "  \"cancelling_at\": null,\n",
      "  \"completed_at\": null,\n",
      "  \"error_file_id\": null,\n",
      "  \"errors\": {\n",
      "    \"data\": [\n",
      "      {\n",
      "        \"code\": \"model_mismatch\",\n",
      "        \"line\": null,\n",
      "        \"message\": \"The provided model deployment 'REPLACE-WITH-MODEL-DEPLOYMENT-NAME' does not exist in the AOAI resource.\",\n",
      "        \"param\": null\n",
      "      },\n",
      "      {\n",
      "        \"code\": \"invalid_request\",\n",
      "        \"line\": null,\n",
      "        \"message\": \"The request is invalid.\",\n",
      "        \"param\": null\n",
      "      }\n",
      "    ],\n",
      "    \"object\": \"list\"\n",
      "  },\n",
      "  \"expired_at\": null,\n",
      "  \"expires_at\": 1724752318,\n",
      "  \"failed_at\": 1724666077,\n",
      "  \"finalizing_at\": null,\n",
      "  \"in_progress_at\": null,\n",
      "  \"metadata\": null,\n",
      "  \"output_file_id\": null,\n",
      "  \"request_counts\": {\n",
      "    \"completed\": 0,\n",
      "    \"failed\": 0,\n",
      "    \"total\": 0\n",
      "  }\n",
      "}\n"
     ]
    }
   ],
   "execution_count": 15
  },
  {
   "metadata": {
    "ExecuteTime": {
     "end_time": "2024-08-26T09:31:12.740617Z",
     "start_time": "2024-08-26T09:31:12.710619Z"
    }
   },
   "cell_type": "code",
   "source": [
    "import json\n",
    "\n",
    "file_response = client.files.content(batch_response.output_file_id)\n",
    "raw_responses = file_response.text.strip().split('\\n')  \n",
    "\n",
    "for raw_response in raw_responses:  \n",
    "    json_response = json.loads(raw_response)  \n",
    "    formatted_json = json.dumps(json_response, indent=2)  \n",
    "    print(formatted_json)"
   ],
   "id": "d8e9b7697b7a6b82",
   "outputs": [
    {
     "ename": "ValueError",
     "evalue": "Expected a non-empty value for `file_id` but received None",
     "output_type": "error",
     "traceback": [
      "\u001B[1;31m---------------------------------------------------------------------------\u001B[0m",
      "\u001B[1;31mValueError\u001B[0m                                Traceback (most recent call last)",
      "Cell \u001B[1;32mIn[9], line 3\u001B[0m\n\u001B[0;32m      1\u001B[0m \u001B[38;5;28;01mimport\u001B[39;00m \u001B[38;5;21;01mjson\u001B[39;00m\n\u001B[1;32m----> 3\u001B[0m file_response \u001B[38;5;241m=\u001B[39m \u001B[43mclient\u001B[49m\u001B[38;5;241;43m.\u001B[39;49m\u001B[43mfiles\u001B[49m\u001B[38;5;241;43m.\u001B[39;49m\u001B[43mcontent\u001B[49m\u001B[43m(\u001B[49m\u001B[43mbatch_response\u001B[49m\u001B[38;5;241;43m.\u001B[39;49m\u001B[43moutput_file_id\u001B[49m\u001B[43m)\u001B[49m\n\u001B[0;32m      4\u001B[0m raw_responses \u001B[38;5;241m=\u001B[39m file_response\u001B[38;5;241m.\u001B[39mtext\u001B[38;5;241m.\u001B[39mstrip()\u001B[38;5;241m.\u001B[39msplit(\u001B[38;5;124m'\u001B[39m\u001B[38;5;130;01m\\n\u001B[39;00m\u001B[38;5;124m'\u001B[39m)  \n\u001B[0;32m      6\u001B[0m \u001B[38;5;28;01mfor\u001B[39;00m raw_response \u001B[38;5;129;01min\u001B[39;00m raw_responses:  \n",
      "File \u001B[1;32m~\\Desktop\\class_acitvity_identify\\venv\\lib\\site-packages\\openai\\resources\\files.py:256\u001B[0m, in \u001B[0;36mFiles.content\u001B[1;34m(self, file_id, extra_headers, extra_query, extra_body, timeout)\u001B[0m\n\u001B[0;32m    243\u001B[0m \u001B[38;5;250m\u001B[39m\u001B[38;5;124;03m\"\"\"\u001B[39;00m\n\u001B[0;32m    244\u001B[0m \u001B[38;5;124;03mReturns the contents of the specified file.\u001B[39;00m\n\u001B[0;32m    245\u001B[0m \n\u001B[1;32m   (...)\u001B[0m\n\u001B[0;32m    253\u001B[0m \u001B[38;5;124;03m  timeout: Override the client-level default timeout for this request, in seconds\u001B[39;00m\n\u001B[0;32m    254\u001B[0m \u001B[38;5;124;03m\"\"\"\u001B[39;00m\n\u001B[0;32m    255\u001B[0m \u001B[38;5;28;01mif\u001B[39;00m \u001B[38;5;129;01mnot\u001B[39;00m file_id:\n\u001B[1;32m--> 256\u001B[0m     \u001B[38;5;28;01mraise\u001B[39;00m \u001B[38;5;167;01mValueError\u001B[39;00m(\u001B[38;5;124mf\u001B[39m\u001B[38;5;124m\"\u001B[39m\u001B[38;5;124mExpected a non-empty value for `file_id` but received \u001B[39m\u001B[38;5;132;01m{\u001B[39;00mfile_id\u001B[38;5;132;01m!r}\u001B[39;00m\u001B[38;5;124m\"\u001B[39m)\n\u001B[0;32m    257\u001B[0m extra_headers \u001B[38;5;241m=\u001B[39m {\u001B[38;5;124m\"\u001B[39m\u001B[38;5;124mAccept\u001B[39m\u001B[38;5;124m\"\u001B[39m: \u001B[38;5;124m\"\u001B[39m\u001B[38;5;124mapplication/binary\u001B[39m\u001B[38;5;124m\"\u001B[39m, \u001B[38;5;241m*\u001B[39m\u001B[38;5;241m*\u001B[39m(extra_headers \u001B[38;5;129;01mor\u001B[39;00m {})}\n\u001B[0;32m    258\u001B[0m \u001B[38;5;28;01mreturn\u001B[39;00m \u001B[38;5;28mself\u001B[39m\u001B[38;5;241m.\u001B[39m_get(\n\u001B[0;32m    259\u001B[0m     \u001B[38;5;124mf\u001B[39m\u001B[38;5;124m\"\u001B[39m\u001B[38;5;124m/files/\u001B[39m\u001B[38;5;132;01m{\u001B[39;00mfile_id\u001B[38;5;132;01m}\u001B[39;00m\u001B[38;5;124m/content\u001B[39m\u001B[38;5;124m\"\u001B[39m,\n\u001B[0;32m    260\u001B[0m     options\u001B[38;5;241m=\u001B[39mmake_request_options(\n\u001B[1;32m   (...)\u001B[0m\n\u001B[0;32m    263\u001B[0m     cast_to\u001B[38;5;241m=\u001B[39m_legacy_response\u001B[38;5;241m.\u001B[39mHttpxBinaryResponseContent,\n\u001B[0;32m    264\u001B[0m )\n",
      "\u001B[1;31mValueError\u001B[0m: Expected a non-empty value for `file_id` but received None"
     ]
    }
   ],
   "execution_count": 9
  },
  {
   "metadata": {},
   "cell_type": "code",
   "outputs": [],
   "execution_count": null,
   "source": "",
   "id": "91bbc5dc71b2ec6b"
  }
 ],
 "metadata": {
  "kernelspec": {
   "display_name": "Python 3",
   "language": "python",
   "name": "python3"
  },
  "language_info": {
   "codemirror_mode": {
    "name": "ipython",
    "version": 2
   },
   "file_extension": ".py",
   "mimetype": "text/x-python",
   "name": "python",
   "nbconvert_exporter": "python",
   "pygments_lexer": "ipython2",
   "version": "2.7.6"
  }
 },
 "nbformat": 4,
 "nbformat_minor": 5
}
