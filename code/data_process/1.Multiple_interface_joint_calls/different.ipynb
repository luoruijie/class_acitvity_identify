{
 "cells": [
  {
   "cell_type": "code",
   "id": "initial_id",
   "metadata": {
    "collapsed": true,
    "ExecuteTime": {
     "end_time": "2024-07-30T02:08:25.592337Z",
     "start_time": "2024-07-30T02:08:25.575310Z"
    }
   },
   "source": [
    "import os\n",
    "\n",
    "# 定义文件夹路径\n",
    "folder1 = 'C:\\\\Users\\\\zonekey008\\\\Desktop\\\\class_acitvity_identify\\\\code\\data_process\\\\1.Multiple_interface_joint_calls\\\\data\\\\2切割后的数据'\n",
    "folder2 = 'C:\\\\Users\\\\zonekey008\\\\Desktop\\\\class_acitvity_identify\\\\code\\data_process\\\\1.Multiple_interface_joint_calls\\\\data\\\\3调api跑出的数据\\\\调api跑出的数据_new'\n",
    "\n",
    "\n",
    "\n",
    "\n",
    "# 获取文件夹中的文件列表\n",
    "files_folder1 = set([item.split(\"_processed\")[0] for item in os.listdir(folder1)])\n",
    "files_folder2 = set([\"_\".join(item.split(\"_processed_output.xlsx\")[0].split(\"_\")[1:]) for item in os.listdir(folder2)])\n",
    "\n",
    "\n"
   ],
   "outputs": [],
   "execution_count": 39
  },
  {
   "metadata": {
    "ExecuteTime": {
     "end_time": "2024-07-30T02:08:27.460437Z",
     "start_time": "2024-07-30T02:08:27.447721Z"
    }
   },
   "cell_type": "code",
   "source": "os.listdir(folder1)",
   "id": "9bdbb588c8f1a2f8",
   "outputs": [
    {
     "data": {
      "text/plain": [
       "['705_processed.xlsx',\n",
       " '726_processed.xlsx',\n",
       " 'baotou_processed.xlsx',\n",
       " 'body_sport_processed.xlsx',\n",
       " 'compress_air_processed.xlsx',\n",
       " 'dir_processed.xlsx',\n",
       " 'dongbei_processed.xlsx',\n",
       " 'english_processed.xlsx',\n",
       " 'labazhou_processed.xlsx',\n",
       " 'lever_processed.xlsx',\n",
       " 'renshishenghuo_processed.xlsx',\n",
       " 'renzhi_processed.xlsx',\n",
       " 'tianchuang2_processed.xlsx',\n",
       " 'wmdggsh_processed.xlsx',\n",
       " 'wuhan1_asr_voice_processed.xlsx',\n",
       " 'wuhan2_asr_voice_processed.xlsx',\n",
       " 'yanzi_processed.xlsx',\n",
       " '孙权劝学_processed.xlsx',\n",
       " '我们的公共生活_processed.xlsx',\n",
       " '我能变得更好_processed.xlsx',\n",
       " '数据的收集和整理_processed.xlsx',\n",
       " '松山湖chinese_processed.xlsx',\n",
       " '植物名片_processed.xlsx',\n",
       " '种子发芽了_processed.xlsx',\n",
       " '纸的发明_processed.xlsx',\n",
       " '色彩的调和_processed.xlsx',\n",
       " '花钟_processed.xlsx',\n",
       " '认识方向_processed.xlsx',\n",
       " '静夜思_processed.xlsx']"
      ]
     },
     "execution_count": 40,
     "metadata": {},
     "output_type": "execute_result"
    }
   ],
   "execution_count": 40
  },
  {
   "metadata": {
    "ExecuteTime": {
     "end_time": "2024-07-30T02:08:31.419413Z",
     "start_time": "2024-07-30T02:08:31.400308Z"
    }
   },
   "cell_type": "code",
   "source": [
    "# 找出只在文件夹1中的文件\n",
    "different = list(files_folder1 - files_folder2)\n",
    "different"
   ],
   "id": "be3fb9946d493e38",
   "outputs": [
    {
     "data": {
      "text/plain": [
       "['花钟',\n",
       " '我们的公共生活',\n",
       " 'baotou',\n",
       " '我能变得更好',\n",
       " '色彩的调和',\n",
       " '认识方向',\n",
       " '植物名片',\n",
       " '数据的收集和整理',\n",
       " '松山湖chinese']"
      ]
     },
     "execution_count": 41,
     "metadata": {},
     "output_type": "execute_result"
    }
   ],
   "execution_count": 41
  },
  {
   "metadata": {
    "ExecuteTime": {
     "end_time": "2024-07-30T02:08:38.331468Z",
     "start_time": "2024-07-30T02:08:38.320367Z"
    }
   },
   "cell_type": "code",
   "source": "files_folder1",
   "id": "3c8cc98d15f81f46",
   "outputs": [
    {
     "data": {
      "text/plain": [
       "{'705',\n",
       " '726',\n",
       " 'baotou',\n",
       " 'body_sport',\n",
       " 'compress_air',\n",
       " 'dir',\n",
       " 'dongbei',\n",
       " 'english',\n",
       " 'labazhou',\n",
       " 'lever',\n",
       " 'renshishenghuo',\n",
       " 'renzhi',\n",
       " 'tianchuang2',\n",
       " 'wmdggsh',\n",
       " 'wuhan1_asr_voice',\n",
       " 'wuhan2_asr_voice',\n",
       " 'yanzi',\n",
       " '孙权劝学',\n",
       " '我们的公共生活',\n",
       " '我能变得更好',\n",
       " '数据的收集和整理',\n",
       " '松山湖chinese',\n",
       " '植物名片',\n",
       " '种子发芽了',\n",
       " '纸的发明',\n",
       " '色彩的调和',\n",
       " '花钟',\n",
       " '认识方向',\n",
       " '静夜思'}"
      ]
     },
     "execution_count": 42,
     "metadata": {},
     "output_type": "execute_result"
    }
   ],
   "execution_count": 42
  },
  {
   "metadata": {
    "ExecuteTime": {
     "end_time": "2024-07-29T12:22:11.300929Z",
     "start_time": "2024-07-29T12:22:11.284929Z"
    }
   },
   "cell_type": "code",
   "source": "",
   "id": "c34d6dd8d3eea7c",
   "outputs": [
    {
     "data": {
      "text/plain": [
       "'wuhan2_asr_voice'"
      ]
     },
     "execution_count": 25,
     "metadata": {},
     "output_type": "execute_result"
    }
   ],
   "execution_count": 25
  },
  {
   "metadata": {
    "ExecuteTime": {
     "end_time": "2024-07-29T12:23:02.927085Z",
     "start_time": "2024-07-29T12:23:02.920084Z"
    }
   },
   "cell_type": "code",
   "source": "",
   "id": "ab84fe6f89e0e664",
   "outputs": [
    {
     "data": {
      "text/plain": [
       "'wuhan1_asr_voice'"
      ]
     },
     "execution_count": 27,
     "metadata": {},
     "output_type": "execute_result"
    }
   ],
   "execution_count": 27
  },
  {
   "metadata": {
    "ExecuteTime": {
     "end_time": "2024-07-30T02:14:29.846449Z",
     "start_time": "2024-07-30T02:14:28.741815Z"
    }
   },
   "cell_type": "code",
   "source": [
    "import subprocess\n",
    "# 循环调用列表different中的元素，并执行command1\n",
    "for file in different:\n",
    "    print(file)\n",
    "    command = f'python main.py --input_file {folder1}\\\\{file}_processed.xlsx --output_dir {folder2} --models 3 --config_file config/config.json'\n",
    "    print(command)\n",
    "    subprocess.run(command, shell=True)\n",
    "    "
   ],
   "id": "f62f60cc3c029ffd",
   "outputs": [
    {
     "name": "stdout",
     "output_type": "stream",
     "text": [
      "花钟\n",
      "python main.py --input_file C:\\Users\\zonekey008\\Desktop\\class_acitvity_identify\\code\\data_process\\1.Multiple_interface_joint_calls\\data\\2切割后的数据\\花钟_processed.xlsx --output_dir C:\\Users\\zonekey008\\Desktop\\class_acitvity_identify\\code\\data_process\\1.Multiple_interface_joint_calls\\data\\3调api跑出的数据 --models 3 --config_file config/config.json\n",
      "我们的公共生活\n",
      "python main.py --input_file C:\\Users\\zonekey008\\Desktop\\class_acitvity_identify\\code\\data_process\\1.Multiple_interface_joint_calls\\data\\2切割后的数据\\我们的公共生活_processed.xlsx --output_dir C:\\Users\\zonekey008\\Desktop\\class_acitvity_identify\\code\\data_process\\1.Multiple_interface_joint_calls\\data\\3调api跑出的数据 --models 3 --config_file config/config.json\n",
      "baotou\n",
      "python main.py --input_file C:\\Users\\zonekey008\\Desktop\\class_acitvity_identify\\code\\data_process\\1.Multiple_interface_joint_calls\\data\\2切割后的数据\\baotou_processed.xlsx --output_dir C:\\Users\\zonekey008\\Desktop\\class_acitvity_identify\\code\\data_process\\1.Multiple_interface_joint_calls\\data\\3调api跑出的数据 --models 3 --config_file config/config.json\n",
      "我能变得更好\n",
      "python main.py --input_file C:\\Users\\zonekey008\\Desktop\\class_acitvity_identify\\code\\data_process\\1.Multiple_interface_joint_calls\\data\\2切割后的数据\\我能变得更好_processed.xlsx --output_dir C:\\Users\\zonekey008\\Desktop\\class_acitvity_identify\\code\\data_process\\1.Multiple_interface_joint_calls\\data\\3调api跑出的数据 --models 3 --config_file config/config.json\n",
      "色彩的调和\n",
      "python main.py --input_file C:\\Users\\zonekey008\\Desktop\\class_acitvity_identify\\code\\data_process\\1.Multiple_interface_joint_calls\\data\\2切割后的数据\\色彩的调和_processed.xlsx --output_dir C:\\Users\\zonekey008\\Desktop\\class_acitvity_identify\\code\\data_process\\1.Multiple_interface_joint_calls\\data\\3调api跑出的数据 --models 3 --config_file config/config.json\n",
      "认识方向\n",
      "python main.py --input_file C:\\Users\\zonekey008\\Desktop\\class_acitvity_identify\\code\\data_process\\1.Multiple_interface_joint_calls\\data\\2切割后的数据\\认识方向_processed.xlsx --output_dir C:\\Users\\zonekey008\\Desktop\\class_acitvity_identify\\code\\data_process\\1.Multiple_interface_joint_calls\\data\\3调api跑出的数据 --models 3 --config_file config/config.json\n",
      "植物名片\n",
      "python main.py --input_file C:\\Users\\zonekey008\\Desktop\\class_acitvity_identify\\code\\data_process\\1.Multiple_interface_joint_calls\\data\\2切割后的数据\\植物名片_processed.xlsx --output_dir C:\\Users\\zonekey008\\Desktop\\class_acitvity_identify\\code\\data_process\\1.Multiple_interface_joint_calls\\data\\3调api跑出的数据 --models 3 --config_file config/config.json\n",
      "数据的收集和整理\n",
      "python main.py --input_file C:\\Users\\zonekey008\\Desktop\\class_acitvity_identify\\code\\data_process\\1.Multiple_interface_joint_calls\\data\\2切割后的数据\\数据的收集和整理_processed.xlsx --output_dir C:\\Users\\zonekey008\\Desktop\\class_acitvity_identify\\code\\data_process\\1.Multiple_interface_joint_calls\\data\\3调api跑出的数据 --models 3 --config_file config/config.json\n",
      "松山湖chinese\n",
      "python main.py --input_file C:\\Users\\zonekey008\\Desktop\\class_acitvity_identify\\code\\data_process\\1.Multiple_interface_joint_calls\\data\\2切割后的数据\\松山湖chinese_processed.xlsx --output_dir C:\\Users\\zonekey008\\Desktop\\class_acitvity_identify\\code\\data_process\\1.Multiple_interface_joint_calls\\data\\3调api跑出的数据 --models 3 --config_file config/config.json\n"
     ]
    }
   ],
   "execution_count": 47
  },
  {
   "metadata": {},
   "cell_type": "code",
   "outputs": [],
   "execution_count": null,
   "source": "python main.py --input_file C:\\Users\\zonekey008\\Desktop\\class_acitvity_identify\\code\\data_process\\1.Multiple_interface_joint_calls\\data\\2切割后的数据\\数据的收集和整理_processed.xlsx --output_dir C:\\Users\\zonekey008\\Desktop\\class_acitvity_identify\\code\\data_process\\1.Multiple_interface_joint_calls\\data\\3调api跑出的数据 --models 3 --config_file config/config.json\n",
   "id": "d6e8b150ce0a7d8"
  }
 ],
 "metadata": {
  "kernelspec": {
   "display_name": "Python 3",
   "language": "python",
   "name": "python3"
  },
  "language_info": {
   "codemirror_mode": {
    "name": "ipython",
    "version": 2
   },
   "file_extension": ".py",
   "mimetype": "text/x-python",
   "name": "python",
   "nbconvert_exporter": "python",
   "pygments_lexer": "ipython2",
   "version": "2.7.6"
  }
 },
 "nbformat": 4,
 "nbformat_minor": 5
}
